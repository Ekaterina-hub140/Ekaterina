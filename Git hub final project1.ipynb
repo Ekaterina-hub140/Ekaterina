{
 "cells": [
  {
   "cell_type": "markdown",
   "metadata": {},
   "source": [
    "# Mortgage Calculator"
   ]
  },
  {
   "cell_type": "markdown",
   "metadata": {},
   "source": [
    "This program calculates how much you will have to pay if you take a certain amount of money for a certain period, how much is left, what is your payment and has a help function. "
   ]
  },
  {
   "cell_type": "code",
   "execution_count": 1,
   "metadata": {},
   "outputs": [],
   "source": [
    "\n",
    "class Mortgage():\n",
    "    def __init__ (self,amount,time):\n",
    "        self.amount = amount\n",
    "        self.time = time\n",
    "    def paymonthly(self):\n",
    "        payment = (self.amount+ self.amount*0.19*self.time)/(self.time*12)\n",
    "        print(f\"Your monthly payment is {payment:1.2f}\")\n",
    "    def payweekly(self):\n",
    "        payment = (self.amount+ self.amount*0.19*self.time)/(self.time*52)\n",
    "        print(f\"Your weekly payment is {payment:1.2f}\")\n",
    "    def quaterly(self):\n",
    "        payment = (self.amount+ self.amount*0.19*self.time)/(self.time*4)\n",
    "        print(f\"Your quaterly payment is {payment:1.2f}\")\n",
    "    def info(self):        \n",
    "        print(f\"You're proposed a loan of {self.amount} for a \\n\\tperiod of {self.time} years with an interest of 19%. \\nTo calculate your payment, please, \\n\\trefer to monthly and weekly functions\")\n",
    "    def help_(self):        \n",
    "        print(f\"Please, add amount of your loan and time in brackets:\\nExample: Mortgage(600000,3) = 600000rub for 3 years\")\n",
    "    def left(self,paid,time2):\n",
    "        self.paid = paid\n",
    "        self.time2 = time2\n",
    "        payment = (self.amount+ self.amount*0.19*self.time2-self.paid)\n",
    "        payment_m = payment/(self.time2*12)\n",
    "        payment_w = payment/(self.time2*52)\n",
    "        \n",
    "        print(f\"{payment:2.1f} rub is left to pay.\\n  Your weekly payment is {payment_w:1.2f} rub.\\n    Your monthly payment is {payment_m:1.2f} rub\")\n",
    "    def after_payment(self,income):\n",
    "        leftover = income - (self.amount+ self.amount*0.19*self.time)/(self.time*12)\n",
    "        print (f\"You will have {leftover:1.2f} rub left after your monthly payment\")\n",
    "        \n",
    "        \n",
    "    "
   ]
  },
  {
   "cell_type": "code",
   "execution_count": 2,
   "metadata": {},
   "outputs": [],
   "source": [
    "myloan = Mortgage(600000,3)"
   ]
  },
  {
   "cell_type": "code",
   "execution_count": 3,
   "metadata": {},
   "outputs": [
    {
     "name": "stdout",
     "output_type": "stream",
     "text": [
      "Please, add amount of your loan and time in brackets:\n",
      "Example: Mortgage(600000,3) = 600000rub for 3 years\n"
     ]
    }
   ],
   "source": [
    "myloan.help_()"
   ]
  },
  {
   "cell_type": "code",
   "execution_count": 4,
   "metadata": {},
   "outputs": [
    {
     "name": "stdout",
     "output_type": "stream",
     "text": [
      "You're proposed a loan of 600000 for a \n",
      "\tperiod of 3 years with an interest of 19%. \n",
      "To calculate your payment, please, \n",
      "\trefer to monthly and weekly functions\n"
     ]
    }
   ],
   "source": [
    "myloan.info()"
   ]
  },
  {
   "cell_type": "code",
   "execution_count": 5,
   "metadata": {},
   "outputs": [
    {
     "name": "stdout",
     "output_type": "stream",
     "text": [
      "Your monthly payment is 26166.67\n"
     ]
    }
   ],
   "source": [
    "myloan.paymonthly()"
   ]
  },
  {
   "cell_type": "code",
   "execution_count": 6,
   "metadata": {},
   "outputs": [
    {
     "name": "stdout",
     "output_type": "stream",
     "text": [
      "Your weekly payment is 6038.46\n"
     ]
    }
   ],
   "source": [
    "myloan.payweekly()"
   ]
  },
  {
   "cell_type": "code",
   "execution_count": 7,
   "metadata": {},
   "outputs": [
    {
     "name": "stdout",
     "output_type": "stream",
     "text": [
      "671000.0 rub is left to pay.\n",
      "  Your weekly payment is 8602.56 rub.\n",
      "    Your monthly payment is 37277.78 rub\n"
     ]
    }
   ],
   "source": [
    "myloan.left(100000,1.5)"
   ]
  },
  {
   "cell_type": "code",
   "execution_count": null,
   "metadata": {},
   "outputs": [],
   "source": []
  }
 ],
 "metadata": {
  "kernelspec": {
   "display_name": "Python 3",
   "language": "python",
   "name": "python3"
  },
  "language_info": {
   "codemirror_mode": {
    "name": "ipython",
    "version": 3
   },
   "file_extension": ".py",
   "mimetype": "text/x-python",
   "name": "python",
   "nbconvert_exporter": "python",
   "pygments_lexer": "ipython3",
   "version": "3.7.6"
  }
 },
 "nbformat": 4,
 "nbformat_minor": 4
}
