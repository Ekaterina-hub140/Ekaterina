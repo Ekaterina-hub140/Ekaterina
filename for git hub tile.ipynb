{
 "cells": [
  {
   "cell_type": "markdown",
   "metadata": {},
   "source": [
    "# Tile calculator"
   ]
  },
  {
   "cell_type": "markdown",
   "metadata": {},
   "source": [
    "This program calculates how much tile you will need, how much it will cost and the number of square meters of your floor. If the user enters something else except numbers, the program will restart for another try 3 times and ask the user to provide the correct input(not stop with an error). After 3 times the program will quit.\n",
    "There is a  widget (GUI) that shows how the total price will change if you change the price per meter or the number of meters. To see how it works you need to run it in a Jupiter Notebook (won't be shown in GitHub)"
   ]
  },
  {
   "cell_type": "code",
   "execution_count": 3,
   "metadata": {},
   "outputs": [],
   "source": [
    "def tile():\n",
    "    for x in range(1,4):\n",
    "        try:\n",
    "            width = int(input(\"What is the width of your floor in metres? \"))\n",
    "            length = int(input(\"What is the length of your floor in metres? \"))\n",
    "            price = int(input(\"What is the cost of the tile in rub\\square metre? \"))\n",
    "            cost = width*length*price\n",
    "            squaremet=width*length\n",
    "            box = squaremet/2\n",
    "            print (f\"\\nThe cost of your tile is {cost} rub, \\nyour floor is {squaremet} square metres.\")\n",
    "            print (f\"\\nYou will need {box} boxes of tile\") \n",
    "            break\n",
    "        except:\n",
    "            print(\"Please, enter numbers only.\")\n",
    "    "
   ]
  },
  {
   "cell_type": "code",
   "execution_count": 2,
   "metadata": {},
   "outputs": [
    {
     "name": "stdout",
     "output_type": "stream",
     "text": [
      "What is the width of your floor in metres? 6\n",
      "What is the length of your floor in metres? 7\n",
      "What is the cost of the tile in rub\\square metre? 1500\n",
      "\n",
      "The cost of your tile is 63000 rub, \n",
      "your floor is 42 square metres.\n",
      "\n",
      "You will need 21.0 boxes of tile\n"
     ]
    }
   ],
   "source": [
    "tile()"
   ]
  },
  {
   "cell_type": "code",
   "execution_count": 3,
   "metadata": {},
   "outputs": [
    {
     "name": "stdout",
     "output_type": "stream",
     "text": [
      "What is the width of your floor in metres? erd\n",
      "Please, enter numbers only.\n",
      "What is the width of your floor in metres? ertert\n",
      "Please, enter numbers only.\n",
      "What is the width of your floor in metres? dfgd\n",
      "Please, enter numbers only.\n"
     ]
    }
   ],
   "source": [
    "tile()"
   ]
  },
  {
   "cell_type": "markdown",
   "metadata": {},
   "source": [
    "The widget (GUI) that shows how the total price will change if you change the price per meter or the number of meters. To see how it works you need to run it in a Jupiter Notebook (won't be shown in GitHub)"
   ]
  },
  {
   "cell_type": "code",
   "execution_count": 7,
   "metadata": {},
   "outputs": [],
   "source": [
    "from ipywidgets import interact, interactive, fixed\n",
    "import ipywidgets as widgets"
   ]
  },
  {
   "cell_type": "code",
   "execution_count": 15,
   "metadata": {},
   "outputs": [],
   "source": [
    "def tile_slider(price,meters):\n",
    "    return price\n",
    "    return meters\n",
    "    return price*meters"
   ]
  },
  {
   "cell_type": "code",
   "execution_count": 16,
   "metadata": {},
   "outputs": [
    {
     "data": {
      "application/vnd.jupyter.widget-view+json": {
       "model_id": "7eb22f6242b1423cb3992858a018d1c2",
       "version_major": 2,
       "version_minor": 0
      },
      "text/plain": [
       "interactive(children=(IntSlider(value=1500, description='price', max=6000, min=1000, step=500), IntSlider(valu…"
      ]
     },
     "metadata": {},
     "output_type": "display_data"
    }
   ],
   "source": [
    "interact(tile_slider,price=widgets.IntSlider(min = 1000, max = 6000, step = 500, value = 1500), meters= widgets.IntSlider(min = 2,max = 60,step= 1,value = 6));"
   ]
  },
  {
   "cell_type": "code",
   "execution_count": null,
   "metadata": {},
   "outputs": [],
   "source": []
  }
 ],
 "metadata": {
  "kernelspec": {
   "display_name": "Python 3",
   "language": "python",
   "name": "python3"
  },
  "language_info": {
   "codemirror_mode": {
    "name": "ipython",
    "version": 3
   },
   "file_extension": ".py",
   "mimetype": "text/x-python",
   "name": "python",
   "nbconvert_exporter": "python",
   "pygments_lexer": "ipython3",
   "version": "3.7.6"
  }
 },
 "nbformat": 4,
 "nbformat_minor": 4
}
