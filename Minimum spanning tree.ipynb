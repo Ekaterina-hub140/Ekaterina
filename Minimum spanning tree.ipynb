{
 "cells": [
  {
   "cell_type": "markdown",
   "id": "33f07997-066a-4d68-ae5c-f3eca5dd0a10",
   "metadata": {},
   "source": [
    "Minimum spanning tree. That is a program which takes a connected, undirected graph with weights and outputs the minimum spanning tree of the graph i.e., a subgraph that is a tree, contains all the vertices, and the sum of its weights is the least possible.\n",
    "How it works:To find the minimum spanning tree (MST) of a connected, undirected graph with weights, we can use Prim's or Kruskal's algorithm. Below is a Python program that implements Kruskal's algorithm to find the MST. This program uses the networkx library, which provides convenient functions for graph manipulation.\n",
    "Important: make sure you have the networkx library installed. You can install it using pip if you haven't done so: pip install networkx\n",
    "Explanation of the Code: \n",
    "Imports: The program imports the networkx library, which is used for creating and manipulating graphs.\n",
    "Creating the Graph: The create_graph function takes a list of edges (each defined by two nodes and a weight) and creates a weighted graph.\n",
    "Finding the MST: The minimum_spanning_tree function uses the networkx function minimum_spanning_tree to compute the MST of the graph.\n",
    "Main Function: In the main function, we define a list of edges for the graph, create the graph, compute the MST, and print the edges of the MST along with their weights."
   ]
  },
  {
   "cell_type": "code",
   "execution_count": 1,
   "id": "49dc9745-61ed-43c5-bb0c-8ca63ca27304",
   "metadata": {},
   "outputs": [
    {
     "name": "stdout",
     "output_type": "stream",
     "text": [
      "Edges in the Minimum Spanning Tree:\n",
      "1 -- 3 (weight: 1)\n",
      "2 -- 3 (weight: 2)\n",
      "2 -- 4 (weight: 5)\n",
      "3 -- 5 (weight: 3)\n"
     ]
    }
   ],
   "source": [
    "import networkx as nx\n",
    "\n",
    "def create_graph(edges):\n",
    "    \"\"\"Create a graph from a list of edges.\"\"\"\n",
    "    G = nx.Graph()\n",
    "    G.add_weighted_edges_from(edges)\n",
    "    return G\n",
    "\n",
    "def minimum_spanning_tree(graph):\n",
    "    \"\"\"Return the minimum spanning tree of the graph.\"\"\"\n",
    "    mst = nx.minimum_spanning_tree(graph)\n",
    "    return mst\n",
    "\n",
    "def main():\n",
    "    # Example edges: (node1, node2, weight)\n",
    "    edges = [\n",
    "        (1, 2, 4),\n",
    "        (1, 3, 1),\n",
    "        (2, 3, 2),\n",
    "        (2, 4, 5),\n",
    "        (3, 4, 8),\n",
    "        (3, 5, 3),\n",
    "        (4, 5, 7)\n",
    "    ]\n",
    "\n",
    "    # Create the graph\n",
    "    graph = create_graph(edges)\n",
    "\n",
    "    # Get the minimum spanning tree\n",
    "    mst = minimum_spanning_tree(graph)\n",
    "\n",
    "    # Print the edges of the minimum spanning tree\n",
    "    print(\"Edges in the Minimum Spanning Tree:\")\n",
    "    for u, v, weight in mst.edges(data=True):\n",
    "        print(f\"{u} -- {v} (weight: {weight['weight']})\")\n",
    "\n",
    "if __name__ == \"__main__\":\n",
    "    main()\n",
    " "
   ]
  },
  {
   "cell_type": "code",
   "execution_count": null,
   "id": "6e4b3ef0-9039-4963-8428-adf0a0f7420b",
   "metadata": {},
   "outputs": [],
   "source": []
  }
 ],
 "metadata": {
  "kernelspec": {
   "display_name": "Python 3 (ipykernel)",
   "language": "python",
   "name": "python3"
  },
  "language_info": {
   "codemirror_mode": {
    "name": "ipython",
    "version": 3
   },
   "file_extension": ".py",
   "mimetype": "text/x-python",
   "name": "python",
   "nbconvert_exporter": "python",
   "pygments_lexer": "ipython3",
   "version": "3.12.7"
  }
 },
 "nbformat": 4,
 "nbformat_minor": 5
}
