{
 "cells": [
  {
   "cell_type": "markdown",
   "id": "d1a1f14e-c36d-41ed-9365-a34d7fb428c1",
   "metadata": {},
   "source": [
    "Eulerian Path. One more algorythmic problem, decided to train myself a bit in this field. The task is the following: create a program which will take as an input a graph and output either a Eulerian path or a Eulerian cycle, or state that it is not possible. A Eulerian Path starts at one node and traverses every edge of a graph through every node and finishes at another node. A Eulerian cycle is a eulerian Path that starts and finishes at the same node (took this task from https://github.com/Pierian-Data/Complete-Python-3-Bootcamp/blob/master/18-Milestone%20Project%20-%203/02-Final%20Capstone%20Project%20Ideas.ipynb )\n",
    "How we will solve that: \n",
    "To determine whether a graph has a Eulerian path or cycle, we can use the following criteria:\n",
    "Eulerian Cycle: A connected graph has a Eulerian cycle if and only if every vertex has an even degree.\n",
    "Eulerian Path: A connected graph has a Eulerian path if and only if exactly zero or two vertices have an odd degree.\n",
    "Below is a Python program that takes a graph as input and checks for the existence of a Eulerian path or cycle. The program uses the networkx library for graph manipulation.\n",
    "Make sure you have the networkx library installed. You can install it using pip if you haven't done so: pip install networkx. Please, note that the code won't run if the library isn't installed (if you're using the latest Anaconda version - most likely it's there already)\n",
    "How it works:\n",
    "Graph Creation: The program creates a graph using a list of edges. You can modify the edges list in the main function to test different graphs.\n",
    "Connectivity Check: The is_connected function checks if the graph is connected using the networkx function.\n",
    "Eulerian Path or Cycle Check: The eulerian_path_or_cycle function counts the number of vertices with odd degrees and determines if the graph has a Eulerian path, cycle, or neither based on the criteria mentioned above.\n",
    "Main Function: The main function creates the graph, checks for Eulerian paths or cycles, and prints the result."
   ]
  },
  {
   "cell_type": "code",
   "execution_count": 2,
   "id": "b56862bc-a5f5-4139-a6cf-79f39eaa10e4",
   "metadata": {},
   "outputs": [
    {
     "name": "stdout",
     "output_type": "stream",
     "text": [
      "The graph has a Eulerian cycle.\n"
     ]
    }
   ],
   "source": [
    "import networkx as nx\n",
    "\n",
    "def is_connected(graph):\n",
    "    \"\"\"Check if the graph is connected.\"\"\"\n",
    "    return nx.is_connected(graph)\n",
    "\n",
    "def eulerian_path_or_cycle(graph):\n",
    "    \"\"\"Determine if the graph has a Eulerian path or cycle.\"\"\"\n",
    "    if not is_connected(graph):\n",
    "        return \"The graph is not connected, so it cannot have a Eulerian path or cycle.\"\n",
    "\n",
    "    odd_degree_count = sum(1 for node in graph.nodes() if graph.degree(node) % 2 != 0)\n",
    "\n",
    "    if odd_degree_count == 0:\n",
    "        return \"The graph has a Eulerian cycle.\"\n",
    "    elif odd_degree_count == 2:\n",
    "        return \"The graph has a Eulerian path.\"\n",
    "    else:\n",
    "        return \"The graph does not have a Eulerian path or cycle.\"\n",
    "\n",
    "def main():\n",
    "    # Example graph edges (node1, node2)\n",
    "    edges = [\n",
    "        (0, 1),\n",
    "        (1, 2),\n",
    "        (2, 0),\n",
    "        (1, 3),\n",
    "        (3, 4),\n",
    "        (4, 1)\n",
    "    ]\n",
    "\n",
    "    # Create the graph\n",
    "    graph = nx.Graph()\n",
    "    graph.add_edges_from(edges)\n",
    "\n",
    "    # Check for Eulerian path or cycle\n",
    "    result = eulerian_path_or_cycle(graph)\n",
    "    print(result)\n",
    "\n",
    "if __name__ == \"__main__\":\n",
    "    main()"
   ]
  },
  {
   "cell_type": "code",
   "execution_count": null,
   "id": "f33b520f-e499-4662-a514-c6c70a86dde2",
   "metadata": {},
   "outputs": [],
   "source": []
  }
 ],
 "metadata": {
  "kernelspec": {
   "display_name": "Python 3 (ipykernel)",
   "language": "python",
   "name": "python3"
  },
  "language_info": {
   "codemirror_mode": {
    "name": "ipython",
    "version": 3
   },
   "file_extension": ".py",
   "mimetype": "text/x-python",
   "name": "python",
   "nbconvert_exporter": "python",
   "pygments_lexer": "ipython3",
   "version": "3.12.7"
  }
 },
 "nbformat": 4,
 "nbformat_minor": 5
}
