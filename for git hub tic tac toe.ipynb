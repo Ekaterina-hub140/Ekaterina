{
 "cells": [
  {
   "cell_type": "markdown",
   "metadata": {},
   "source": [
    "# TIC TAC TOE game"
   ]
  },
  {
   "cell_type": "markdown",
   "metadata": {},
   "source": [
    "This is a game of Tic Tac Toe, prints board and lets you choose your position with a num lock pad"
   ]
  },
  {
   "cell_type": "code",
   "execution_count": null,
   "metadata": {},
   "outputs": [],
   "source": []
  },
  {
   "cell_type": "code",
   "execution_count": null,
   "metadata": {},
   "outputs": [],
   "source": [
    "#prints board\n",
    "from IPython.display import clear_output\n",
    "def display_board(board):\n",
    "    clear_output()\n",
    "    print (board[7]+'|'+board[8]+'|'+board[9])\n",
    "    print (board[4]+'|'+board[5]+'|'+board[6])\n",
    "    print (board[1]+'|'+board[2]+'|'+board[3])"
   ]
  },
  {
   "cell_type": "code",
   "execution_count": 2,
   "metadata": {},
   "outputs": [],
   "source": [
    "#who is X an O\n",
    "def player_input():\n",
    "    marker = ''\n",
    "    while marker!='X' and marker!='O':\n",
    "        marker = input(\"Player1, choose X or O:  \").upper()\n",
    "        \n",
    "        if marker == \"X\":\n",
    "            player1 = 'X'\n",
    "            player2 = 'O'\n",
    "        else:\n",
    "            player1 = 'O'\n",
    "            player2 = 'X'\n",
    "   \n",
    "    return (player1,player2)\n"
   ]
  },
  {
   "cell_type": "code",
   "execution_count": 3,
   "metadata": {},
   "outputs": [],
   "source": [
    "# puts a marker on a position\n",
    "def place_marker(board,marker,position):\n",
    "    board[position] = marker    "
   ]
  },
  {
   "cell_type": "code",
   "execution_count": 4,
   "metadata": {},
   "outputs": [],
   "source": [
    "#check for win\n",
    "def win_check(board,mark):\n",
    "    return ((board[7]==board[8]==board[9]==mark) or \n",
    "            (board[4]==board[5]==board[6]==mark) or \n",
    "            (board[1]==board[2]==board[3]==mark)or \n",
    "            (board[1]==board[5]==board[9]==mark) or \n",
    "            (board[7]==board[5]==board[3]==mark) or\n",
    "            (board[7]==board[4]==board[1]==mark) or\n",
    "            (board[8]==board[5]==board[2]==mark) or \n",
    "            (board[9]==board[6]==board[3]==mark))\n",
    "\n",
    "            \n"
   ]
  },
  {
   "cell_type": "code",
   "execution_count": 5,
   "metadata": {},
   "outputs": [],
   "source": [
    "#who goes first\n",
    "import random\n",
    "def choose_first():\n",
    "    x = random.randint(0,1)\n",
    "    if x == 0:\n",
    "        return \"Player1\"\n",
    "    else:\n",
    "        return \"Player2\""
   ]
  },
  {
   "cell_type": "code",
   "execution_count": 6,
   "metadata": {},
   "outputs": [],
   "source": [
    "# Checks if the space is free\n",
    "def space_check(board,position):\n",
    "    return board[position] == \" \""
   ]
  },
  {
   "cell_type": "code",
   "execution_count": 7,
   "metadata": {},
   "outputs": [],
   "source": [
    "#Checks if the board is full (True - full)\n",
    "def full_board_check(board):\n",
    "    for i in range(0,10):\n",
    "        if space_check(board,i):\n",
    "            return False        \n",
    "        \n",
    "    \n",
    "    return True\n",
    "        "
   ]
  },
  {
   "cell_type": "code",
   "execution_count": 8,
   "metadata": {},
   "outputs": [],
   "source": [
    "#takes a position from player\n",
    "def player_choice(board):\n",
    "    position = 0\n",
    "    while position not in [1,2,3,4,5,6,7,8,9] or not space_check(board,position):\n",
    "        position = int(input('Choose a position(1-9):  '))\n",
    "    \n",
    "    return position\n",
    "    \n",
    "    "
   ]
  },
  {
   "cell_type": "code",
   "execution_count": 9,
   "metadata": {},
   "outputs": [],
   "source": [
    "#play again\n",
    "def replay():\n",
    "    choice = input (\"Do you want to play again? Yes or No\")\n",
    "    return choice == \"Yes\"\n",
    "    "
   ]
  },
  {
   "cell_type": "code",
   "execution_count": 13,
   "metadata": {},
   "outputs": [
    {
     "name": "stdout",
     "output_type": "stream",
     "text": [
      "X| |X\n",
      "O|O|O\n",
      "O| |X\n",
      "Player2 has won!\n",
      "Do you want to play again? Yes or NoNo\n"
     ]
    }
   ],
   "source": [
    "# While loop to keep running the game\n",
    "print (\"Welcome to Tic TAC TOE\")\n",
    "\n",
    "while True:\n",
    "    #set the board,turn and marker\n",
    "    the_board = [' ']*10\n",
    "    player1_marker,player2_marker = player_input()\n",
    "    turn = choose_first()\n",
    "    print(turn + 'will go first')\n",
    "    play_game = input('Ready to play? y or n: ')\n",
    "    \n",
    "    if play_game == 'y':\n",
    "        game_on = True\n",
    "        \n",
    "    else:\n",
    "        game_on = False\n",
    "    #game play\n",
    "    while game_on:\n",
    "        if turn == \"Player1\":\n",
    "            display_board(the_board)        \n",
    "            position = player_choice(the_board)\n",
    "            place_marker(the_board,player1_marker,position)\n",
    "        #check if they won\n",
    "            if win_check(the_board,player1_marker):\n",
    "                display_board(the_board)\n",
    "                print('Player1 has won!')\n",
    "                game_on=False\n",
    "            else:\n",
    "                if full_board_check(the_board):\n",
    "                    display_board(the_board)\n",
    "                    print (\"Tie game(board is full)\")\n",
    "                    game_on=False\n",
    "            \n",
    "                else:\n",
    "                    turn = 'Player2'\n",
    "        #Player2\n",
    "        else:\n",
    "            display_board(the_board)        \n",
    "            position = player_choice(the_board)\n",
    "            place_marker(the_board,player2_marker,position)\n",
    "        #check if they won\n",
    "            if win_check(the_board,player2_marker):\n",
    "                display_board(the_board)\n",
    "                print('Player2 has won!')\n",
    "                game_on=False\n",
    "            else:\n",
    "                if full_board_check(the_board):\n",
    "                    display_board(the_board)\n",
    "                    print (\"Tie game(board is full)\")\n",
    "                    game_on=False\n",
    "            \n",
    "                else:\n",
    "                    turn = 'Player1'\n",
    "    \n",
    "    #break out of the game\n",
    "    if not replay():\n",
    "        break"
   ]
  },
  {
   "cell_type": "code",
   "execution_count": null,
   "metadata": {},
   "outputs": [],
   "source": []
  },
  {
   "cell_type": "code",
   "execution_count": null,
   "metadata": {},
   "outputs": [],
   "source": []
  }
 ],
 "metadata": {
  "kernelspec": {
   "display_name": "Python 3",
   "language": "python",
   "name": "python3"
  },
  "language_info": {
   "codemirror_mode": {
    "name": "ipython",
    "version": 3
   },
   "file_extension": ".py",
   "mimetype": "text/x-python",
   "name": "python",
   "nbconvert_exporter": "python",
   "pygments_lexer": "ipython3",
   "version": "3.7.6"
  }
 },
 "nbformat": 4,
 "nbformat_minor": 4
}
